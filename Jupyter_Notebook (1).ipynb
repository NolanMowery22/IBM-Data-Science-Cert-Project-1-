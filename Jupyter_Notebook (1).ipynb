{
  "nbformat": 4,
  "nbformat_minor": 0,
  "metadata": {
    "colab": {
      "provenance": []
    },
    "kernelspec": {
      "name": "python3",
      "display_name": "Python 3"
    },
    "language_info": {
      "name": "python"
    }
  },
  "cells": [
    {
      "cell_type": "markdown",
      "source": [
        "# Data Science Tools and Ecosystem"
      ],
      "metadata": {
        "id": "KXNZJiakfE6M"
      }
    },
    {
      "cell_type": "markdown",
      "source": [
        "#### In this notebook, Data Science Tools and Ecosystem are summarized."
      ],
      "metadata": {
        "id": "hzlRYAiQfVJ3"
      }
    },
    {
      "cell_type": "markdown",
      "source": [
        "##### Some of the popular languages that Data Scientists use are:\n",
        "1. Python\n",
        "2. RStudio\n",
        "3. SQL\n",
        "4. Julia\n",
        "5. Java"
      ],
      "metadata": {
        "id": "l-wRYhhCfaNQ"
      }
    },
    {
      "cell_type": "markdown",
      "source": [
        "##### Some of the commonly used libraries used by Data Scientists include:\n",
        "1. Pandas\n",
        "2. Numpy\n",
        "3. Seaborn\n",
        "4. GGPlot2\n",
        "5. Pytorch\n",
        "6. Scikit Learn\n",
        "7. TensorFlow\n",
        "8. Matplotlib\n",
        "9. Keras\n",
        "10. XGBoost"
      ],
      "metadata": {
        "id": "4tTYOUanffdm"
      }
    },
    {
      "cell_type": "markdown",
      "source": [
        "| Data Science Tools |\n",
        "| -------------------- |\n",
        "| Jupyter Notebook|\n",
        "| VS Code |\n",
        "| RStudio |"
      ],
      "metadata": {
        "id": "Uv9QYTmkfk3l"
      }
    },
    {
      "cell_type": "markdown",
      "source": [
        "### Below are a few examples of evaluating arithmetic expressions in Python"
      ],
      "metadata": {
        "id": "pa0WZWctfqTO"
      }
    },
    {
      "cell_type": "code",
      "source": [
        "# A simple arithmetic expression to multiply then add integers #\n",
        "(3*4)+5"
      ],
      "metadata": {
        "colab": {
          "base_uri": "https://localhost:8080/"
        },
        "id": "Uts3hoLUflnH",
        "outputId": "bc42ea64-234d-405f-851f-4cc32ebf22bb"
      },
      "execution_count": 1,
      "outputs": [
        {
          "output_type": "execute_result",
          "data": {
            "text/plain": [
              "17"
            ]
          },
          "metadata": {},
          "execution_count": 1
        }
      ]
    },
    {
      "cell_type": "code",
      "source": [
        "# This code will convert minutes into hours #\n",
        "200/60"
      ],
      "metadata": {
        "colab": {
          "base_uri": "https://localhost:8080/"
        },
        "id": "-T_35YmXfw-5",
        "outputId": "f4068639-150e-445d-b83d-77212ae70a73"
      },
      "execution_count": 2,
      "outputs": [
        {
          "output_type": "execute_result",
          "data": {
            "text/plain": [
              "3.3333333333333335"
            ]
          },
          "metadata": {},
          "execution_count": 2
        }
      ]
    },
    {
      "cell_type": "markdown",
      "source": [
        " Objectives:  \n",
        "- List popular languages for data sicence\n",
        "- List popular libraries for data science\n",
        "- Displaying popular programming environments"
      ],
      "metadata": {
        "id": "h3VLFoIAf22t"
      }
    },
    {
      "cell_type": "markdown",
      "source": [
        "## Author:\n",
        "##### David N. Mowery, MSHI"
      ],
      "metadata": {
        "id": "GVNV79iyf7MA"
      }
    },
    {
      "cell_type": "code",
      "source": [],
      "metadata": {
        "id": "b-3cW9Elf7mS"
      },
      "execution_count": null,
      "outputs": []
    }
  ]
}